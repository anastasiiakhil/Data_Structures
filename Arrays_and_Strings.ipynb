{
 "cells": [
  {
   "cell_type": "markdown",
   "id": "17337cb7-0f58-49a2-bc57-429a8f1c96eb",
   "metadata": {},
   "source": [
    "Task 1. Implement an algorithm to determine if a string has all unique characters. What if you\n",
    "cannot use additional data structures?"
   ]
  },
  {
   "cell_type": "code",
   "execution_count": 1,
   "id": "19547e73-5f4c-4d2a-bdec-8701fd29a7ff",
   "metadata": {},
   "outputs": [],
   "source": [
    "# Approach 1. Brute Force\n",
    "def is_unique(input_str: str):\n",
    "    for i in range(len(input_str)):\n",
    "        if input_str[i] in input_str[i+1:]:\n",
    "            return False\n",
    "    return True"
   ]
  },
  {
   "cell_type": "code",
   "execution_count": 2,
   "id": "b0599874-0408-495f-9ba6-5b8f33e9f126",
   "metadata": {},
   "outputs": [
    {
     "name": "stdout",
     "output_type": "stream",
     "text": [
      "For input 'March' the answer is True\n",
      "For input 'September' the answer is False\n"
     ]
    }
   ],
   "source": [
    "input_1 = \"March\"\n",
    "input_2 = \"September\"\n",
    "\n",
    "print(\"For input '{}' the answer is {}\".format(input_1, is_unique(input_1)))\n",
    "print(\"For input '{}' the answer is {}\".format(input_2, is_unique(input_2)))"
   ]
  },
  {
   "cell_type": "code",
   "execution_count": 3,
   "id": "92aba8e6-8430-454d-a850-0d1a4a6d17a1",
   "metadata": {},
   "outputs": [],
   "source": [
    "# Approach 2. Sorting\n",
    "def is_unique(input_str: str):\n",
    "    sorted_str = sorted(input_str)\n",
    "    for i in range(len(sorted_str) - 1):\n",
    "        if (sorted_str[i] == sorted_str[i+1]):\n",
    "            return False\n",
    "    return True"
   ]
  },
  {
   "cell_type": "code",
   "execution_count": 4,
   "id": "6e7a366e-e4e6-4e37-a3bb-2415433c1fae",
   "metadata": {},
   "outputs": [
    {
     "name": "stdout",
     "output_type": "stream",
     "text": [
      "For input 'March' the answer is True\n",
      "For input 'September' the answer is False\n"
     ]
    }
   ],
   "source": [
    "print(\"For input '{}' the answer is {}\".format(input_1, is_unique(input_1)))\n",
    "print(\"For input '{}' the answer is {}\".format(input_2, is_unique(input_2)))"
   ]
  },
  {
   "cell_type": "code",
   "execution_count": 5,
   "id": "5c91bdc5-6355-4202-9076-c177d9f12e40",
   "metadata": {},
   "outputs": [],
   "source": [
    "# Approach 3. Extra Data Structure\n",
    "# This approach assumes ASCII charset. The 256 indices represent 256 characters.\n",
    "def is_unique(input_str: str):\n",
    "    max_char = 256\n",
    "    n = len(input_str)\n",
    "\n",
    "    if n > max_char:\n",
    "        return False\n",
    "    \n",
    "    chars = [False] * max_char\n",
    "    for i in range(n):\n",
    "        index = ord(input_str[i])\n",
    "        if (chars[index] == True):\n",
    "            return False\n",
    "        chars[index] = True\n",
    "\n",
    "    return True"
   ]
  },
  {
   "cell_type": "code",
   "execution_count": 6,
   "id": "332308d9-0578-4e7d-beb6-5b9ab9cca268",
   "metadata": {},
   "outputs": [
    {
     "name": "stdout",
     "output_type": "stream",
     "text": [
      "For input 'March' the answer is True\n",
      "For input 'September' the answer is False\n"
     ]
    }
   ],
   "source": [
    "print(\"For input '{}' the answer is {}\".format(input_1, is_unique(input_1)))\n",
    "print(\"For input '{}' the answer is {}\".format(input_2, is_unique(input_2)))"
   ]
  },
  {
   "cell_type": "code",
   "execution_count": null,
   "id": "e376fdb3-2436-4387-8592-927d5f0ca7b7",
   "metadata": {},
   "outputs": [],
   "source": []
  }
 ],
 "metadata": {
  "kernelspec": {
   "display_name": "Python 3 (ipykernel)",
   "language": "python",
   "name": "python3"
  },
  "language_info": {
   "codemirror_mode": {
    "name": "ipython",
    "version": 3
   },
   "file_extension": ".py",
   "mimetype": "text/x-python",
   "name": "python",
   "nbconvert_exporter": "python",
   "pygments_lexer": "ipython3",
   "version": "3.8.10"
  }
 },
 "nbformat": 4,
 "nbformat_minor": 5
}
