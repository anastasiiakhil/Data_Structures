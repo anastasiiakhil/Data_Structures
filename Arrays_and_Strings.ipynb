{
 "cells": [
  {
   "cell_type": "markdown",
   "id": "17337cb7-0f58-49a2-bc57-429a8f1c96eb",
   "metadata": {},
   "source": [
    "__Task 1__. Implement an algorithm to determine if a string has all unique characters. What if you\n",
    "cannot use additional data structures?"
   ]
  },
  {
   "cell_type": "code",
   "execution_count": 1,
   "id": "19547e73-5f4c-4d2a-bdec-8701fd29a7ff",
   "metadata": {},
   "outputs": [],
   "source": [
    "# Approach 1. Brute Force\n",
    "def is_unique(input_str: str):\n",
    "    for i in range(len(input_str)):\n",
    "        if input_str[i] in input_str[i+1:]:\n",
    "            return False\n",
    "    return True"
   ]
  },
  {
   "cell_type": "code",
   "execution_count": 2,
   "id": "b0599874-0408-495f-9ba6-5b8f33e9f126",
   "metadata": {},
   "outputs": [
    {
     "name": "stdout",
     "output_type": "stream",
     "text": [
      "For input 'March' the answer is True\n",
      "For input 'September' the answer is False\n"
     ]
    }
   ],
   "source": [
    "input_1 = \"March\"\n",
    "input_2 = \"September\"\n",
    "\n",
    "print(\"For input '{}' the answer is {}\".format(input_1, is_unique(input_1)))\n",
    "print(\"For input '{}' the answer is {}\".format(input_2, is_unique(input_2)))"
   ]
  },
  {
   "cell_type": "code",
   "execution_count": 3,
   "id": "92aba8e6-8430-454d-a850-0d1a4a6d17a1",
   "metadata": {},
   "outputs": [],
   "source": [
    "# Approach 2. Sorting\n",
    "def is_unique(input_str: str):\n",
    "    sorted_str = sorted(input_str)\n",
    "    for i in range(len(sorted_str) - 1):\n",
    "        if (sorted_str[i] == sorted_str[i+1]):\n",
    "            return False\n",
    "    return True"
   ]
  },
  {
   "cell_type": "code",
   "execution_count": 4,
   "id": "6e7a366e-e4e6-4e37-a3bb-2415433c1fae",
   "metadata": {},
   "outputs": [
    {
     "name": "stdout",
     "output_type": "stream",
     "text": [
      "For input 'March' the answer is True\n",
      "For input 'September' the answer is False\n"
     ]
    }
   ],
   "source": [
    "print(\"For input '{}' the answer is {}\".format(input_1, is_unique(input_1)))\n",
    "print(\"For input '{}' the answer is {}\".format(input_2, is_unique(input_2)))"
   ]
  },
  {
   "cell_type": "code",
   "execution_count": 5,
   "id": "5c91bdc5-6355-4202-9076-c177d9f12e40",
   "metadata": {},
   "outputs": [],
   "source": [
    "# Approach 3. Extra Data Structure\n",
    "# This approach assumes ASCII charset. The 256 indices represent 256 characters.\n",
    "def is_unique(input_str: str):\n",
    "    max_char = 256\n",
    "    n = len(input_str)\n",
    "\n",
    "    if n > max_char:\n",
    "        return False\n",
    "    \n",
    "    chars = [False] * max_char\n",
    "    for i in range(n):\n",
    "        index = ord(input_str[i])\n",
    "        if (chars[index] == True):\n",
    "            return False\n",
    "        chars[index] = True\n",
    "\n",
    "    return True"
   ]
  },
  {
   "cell_type": "code",
   "execution_count": 6,
   "id": "332308d9-0578-4e7d-beb6-5b9ab9cca268",
   "metadata": {},
   "outputs": [
    {
     "name": "stdout",
     "output_type": "stream",
     "text": [
      "For input 'March' the answer is True\n",
      "For input 'September' the answer is False\n"
     ]
    }
   ],
   "source": [
    "print(\"For input '{}' the answer is {}\".format(input_1, is_unique(input_1)))\n",
    "print(\"For input '{}' the answer is {}\".format(input_2, is_unique(input_2)))"
   ]
  },
  {
   "cell_type": "markdown",
   "id": "147c8151-6fa2-4adb-ad10-6ee49c21813b",
   "metadata": {},
   "source": [
    "__Task 2__. Given two strings, write a method to decide if one is a permutation of the other."
   ]
  },
  {
   "cell_type": "code",
   "execution_count": 1,
   "id": "0ce8fcb2-2401-4882-8957-1e506677549b",
   "metadata": {},
   "outputs": [],
   "source": [
    "# Approach 1. Brute force\n",
    "def is_permutation(str_1: str, str_2: str):\n",
    "\n",
    "    # check whether two strings have the same length \n",
    "    if len(str_1) != len(str_2):\n",
    "        return False\n",
    "        \n",
    "    no_of_char = 256\n",
    "    count_str_1 = [0] * no_of_char\n",
    "    count_str_2 = [0] * no_of_char\n",
    "\n",
    "    # count char in each string\n",
    "    for i in str_1:\n",
    "        count_str_1[ord(i)] += 1\n",
    "    for j in str_2:\n",
    "        count_str_2[ord(j)] += 1\n",
    "\n",
    "    # compare count arrays\n",
    "    for k in range(no_of_char):\n",
    "        if count_str_1[k] != count_str_2[k]:\n",
    "            return False\n",
    "\n",
    "    return True"
   ]
  },
  {
   "cell_type": "code",
   "execution_count": 2,
   "id": "9e489cbc-7013-4768-a6a6-4562e3fbe478",
   "metadata": {},
   "outputs": [
    {
     "name": "stdout",
     "output_type": "stream",
     "text": [
      "For input 'september' and 'sptmbreee' the answer is True\n",
      "For input 'work' and 'wwkr' the answer is False\n"
     ]
    }
   ],
   "source": [
    "input_1_pair_1 = \"september\"\n",
    "input_2_pair_1 = \"sptmbreee\"\n",
    "\n",
    "input_1_pair_2 = \"work\"\n",
    "input_2_pair_2 = \"wwkr\"\n",
    "\n",
    "print(\"For input '{}' and '{}' the answer is {}\".format(input_1_pair_1, input_2_pair_1, is_permutation(input_1_pair_1, input_2_pair_1)))\n",
    "print(\"For input '{}' and '{}' the answer is {}\".format(input_1_pair_2, input_2_pair_2, is_permutation(input_1_pair_2, input_2_pair_2)))"
   ]
  },
  {
   "cell_type": "code",
   "execution_count": 3,
   "id": "a21278f3-dc9e-4638-b8e8-d084adb4df00",
   "metadata": {},
   "outputs": [],
   "source": [
    "# Approach 2. Using hash tables\n",
    "def is_permutation_1(str_1: str, str_2: str):\n",
    "    \n",
    "    # check whether two strings have the same length\n",
    "    if len(str_1) != len(str_2):\n",
    "        return False\n",
    "\n",
    "    str_1_letter_dict = {}\n",
    "\n",
    "    # iterate over the first string and create a dict\n",
    "    for i in str_1:\n",
    "        if i in str_1_letter_dict:\n",
    "            str_1_letter_dict[i] += 1\n",
    "        else:\n",
    "            str_1_letter_dict[i] = 1\n",
    "    \n",
    "    # iterate over the second string and check all values in the created dict\n",
    "    for j in str_2:\n",
    "        if j in str_1_letter_dict:\n",
    "            str_1_letter_dict[j] -= 1\n",
    "        else:\n",
    "            return False\n",
    "    \n",
    "    # check all values in letter dict, should be equal to 0\n",
    "    for k in str_1_letter_dict.values():\n",
    "        if k == 0:\n",
    "            continue\n",
    "        else:\n",
    "            return False\n",
    "\n",
    "    return True"
   ]
  },
  {
   "cell_type": "code",
   "execution_count": 4,
   "id": "deabaa55-56d6-4006-b9e9-09fef8e576ee",
   "metadata": {},
   "outputs": [
    {
     "name": "stdout",
     "output_type": "stream",
     "text": [
      "For input 'september' and 'sptmbreee' the answer is True\n",
      "For input 'work' and 'wwkr' the answer is False\n"
     ]
    }
   ],
   "source": [
    "print(\"For input '{}' and '{}' the answer is {}\".format(input_1_pair_1, input_2_pair_1, is_permutation(input_1_pair_1, input_2_pair_1)))\n",
    "print(\"For input '{}' and '{}' the answer is {}\".format(input_1_pair_2, input_2_pair_2, is_permutation(input_1_pair_2, input_2_pair_2)))"
   ]
  },
  {
   "cell_type": "code",
   "execution_count": 5,
   "id": "fdd97503-bfac-4101-832f-9444db4dafb8",
   "metadata": {},
   "outputs": [],
   "source": [
    "# Approach 3. Sorting\n",
    "def is_permutation(str_1: str, str_2: str):\n",
    "\n",
    "    # sort two strings\n",
    "    str_1_sorted = sorted(str_1)\n",
    "    str_2_sorted = sorted(str_2)\n",
    "\n",
    "    # check whether two sorted strings are the same\n",
    "    if str_1_sorted == str_2_sorted:\n",
    "        return True\n",
    "    else:\n",
    "        return False"
   ]
  },
  {
   "cell_type": "code",
   "execution_count": 6,
   "id": "0426ffab-8cf4-4d1b-8ea1-657f3ece8831",
   "metadata": {},
   "outputs": [
    {
     "name": "stdout",
     "output_type": "stream",
     "text": [
      "For input 'september' and 'sptmbreee' the answer is True\n",
      "For input 'work' and 'wwkr' the answer is False\n"
     ]
    }
   ],
   "source": [
    "print(\"For input '{}' and '{}' the answer is {}\".format(input_1_pair_1, input_2_pair_1, is_permutation(input_1_pair_1, input_2_pair_1)))\n",
    "print(\"For input '{}' and '{}' the answer is {}\".format(input_1_pair_2, input_2_pair_2, is_permutation(input_1_pair_2, input_2_pair_2)))"
   ]
  },
  {
   "cell_type": "code",
   "execution_count": null,
   "id": "ee23a2aa-6cb1-4a84-ac19-fc19adb74ffa",
   "metadata": {},
   "outputs": [],
   "source": []
  }
 ],
 "metadata": {
  "kernelspec": {
   "display_name": "Python 3",
   "language": "python",
   "name": "python3"
  },
  "language_info": {
   "codemirror_mode": {
    "name": "ipython",
    "version": 3
   },
   "file_extension": ".py",
   "mimetype": "text/x-python",
   "name": "python",
   "nbconvert_exporter": "python",
   "pygments_lexer": "ipython3",
   "version": "3.8.10"
  }
 },
 "nbformat": 4,
 "nbformat_minor": 5
}
