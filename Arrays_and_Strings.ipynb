{
 "cells": [
  {
   "cell_type": "markdown",
   "id": "17337cb7-0f58-49a2-bc57-429a8f1c96eb",
   "metadata": {},
   "source": [
    "__Task 1__. Implement an algorithm to determine if a string has all unique characters. What if you\n",
    "cannot use additional data structures?"
   ]
  },
  {
   "cell_type": "code",
   "execution_count": 1,
   "id": "2f670ab6-50f7-4566-be2d-a5b4cb02735f",
   "metadata": {},
   "outputs": [],
   "source": [
    "input_1 = \"March\"\n",
    "input_2 = \"September\""
   ]
  },
  {
   "cell_type": "code",
   "execution_count": 2,
   "id": "19547e73-5f4c-4d2a-bdec-8701fd29a7ff",
   "metadata": {},
   "outputs": [],
   "source": [
    "# Approach 1. Brute Force\n",
    "def is_unique(input_str: str):\n",
    "    for i in range(len(input_str)):\n",
    "        if input_str[i] in input_str[i+1:]:\n",
    "            return False\n",
    "    return True"
   ]
  },
  {
   "cell_type": "code",
   "execution_count": 3,
   "id": "b0599874-0408-495f-9ba6-5b8f33e9f126",
   "metadata": {},
   "outputs": [
    {
     "name": "stdout",
     "output_type": "stream",
     "text": [
      "For input 'March' the answer is True\n",
      "For input 'September' the answer is False\n"
     ]
    }
   ],
   "source": [
    "print(\"For input '{}' the answer is {}\".format(input_1, is_unique(input_1)))\n",
    "print(\"For input '{}' the answer is {}\".format(input_2, is_unique(input_2)))"
   ]
  },
  {
   "cell_type": "code",
   "execution_count": 4,
   "id": "92aba8e6-8430-454d-a850-0d1a4a6d17a1",
   "metadata": {},
   "outputs": [],
   "source": [
    "# Approach 2. Sorting\n",
    "def is_unique_1(input_str: str):\n",
    "    sorted_str = sorted(input_str)\n",
    "    for i in range(len(sorted_str) - 1):\n",
    "        if (sorted_str[i] == sorted_str[i+1]):\n",
    "            return False\n",
    "    return True"
   ]
  },
  {
   "cell_type": "code",
   "execution_count": 5,
   "id": "6e7a366e-e4e6-4e37-a3bb-2415433c1fae",
   "metadata": {},
   "outputs": [
    {
     "name": "stdout",
     "output_type": "stream",
     "text": [
      "For input 'March' the answer is True\n",
      "For input 'September' the answer is False\n"
     ]
    }
   ],
   "source": [
    "print(\"For input '{}' the answer is {}\".format(input_1, is_unique_1(input_1)))\n",
    "print(\"For input '{}' the answer is {}\".format(input_2, is_unique_1(input_2)))"
   ]
  },
  {
   "cell_type": "code",
   "execution_count": 6,
   "id": "5c91bdc5-6355-4202-9076-c177d9f12e40",
   "metadata": {},
   "outputs": [],
   "source": [
    "# Approach 3. Extra Data Structure\n",
    "# This approach assumes ASCII charset. The 256 indices represent 256 characters.\n",
    "def is_unique_2(input_str: str):\n",
    "    max_char = 256\n",
    "    n = len(input_str)\n",
    "\n",
    "    if n > max_char:\n",
    "        return False\n",
    "    \n",
    "    chars = [False] * max_char\n",
    "    for i in range(n):\n",
    "        index = ord(input_str[i])\n",
    "        if (chars[index] == True):\n",
    "            return False\n",
    "        chars[index] = True\n",
    "\n",
    "    return True"
   ]
  },
  {
   "cell_type": "code",
   "execution_count": 7,
   "id": "332308d9-0578-4e7d-beb6-5b9ab9cca268",
   "metadata": {},
   "outputs": [
    {
     "name": "stdout",
     "output_type": "stream",
     "text": [
      "For input 'March' the answer is True\n",
      "For input 'September' the answer is False\n"
     ]
    }
   ],
   "source": [
    "print(\"For input '{}' the answer is {}\".format(input_1, is_unique_2(input_1)))\n",
    "print(\"For input '{}' the answer is {}\".format(input_2, is_unique_2(input_2)))"
   ]
  },
  {
   "cell_type": "markdown",
   "id": "147c8151-6fa2-4adb-ad10-6ee49c21813b",
   "metadata": {},
   "source": [
    "__Task 2__. Given two strings, write a method to decide if one is a permutation of the other."
   ]
  },
  {
   "cell_type": "code",
   "execution_count": 8,
   "id": "18538b10-2d22-435e-b89c-d9ff06a63c2f",
   "metadata": {},
   "outputs": [],
   "source": [
    "input_1_pair_1 = \"september\"\n",
    "input_2_pair_1 = \"sptmbreee\"\n",
    "\n",
    "input_1_pair_2 = \"work\"\n",
    "input_2_pair_2 = \"wwkr\""
   ]
  },
  {
   "cell_type": "code",
   "execution_count": 9,
   "id": "0ce8fcb2-2401-4882-8957-1e506677549b",
   "metadata": {},
   "outputs": [],
   "source": [
    "# Approach 1. Brute force\n",
    "def is_permutation(str_1: str, str_2: str):\n",
    "\n",
    "    # check whether two strings have the same length \n",
    "    if len(str_1) != len(str_2):\n",
    "        return False\n",
    "        \n",
    "    no_of_char = 256\n",
    "    count_str_1 = [0] * no_of_char\n",
    "    count_str_2 = [0] * no_of_char\n",
    "\n",
    "    # count char in each string\n",
    "    for i in str_1:\n",
    "        count_str_1[ord(i)] += 1\n",
    "    for j in str_2:\n",
    "        count_str_2[ord(j)] += 1\n",
    "\n",
    "    # compare count arrays\n",
    "    for k in range(no_of_char):\n",
    "        if count_str_1[k] != count_str_2[k]:\n",
    "            return False\n",
    "\n",
    "    return True"
   ]
  },
  {
   "cell_type": "code",
   "execution_count": 10,
   "id": "9e489cbc-7013-4768-a6a6-4562e3fbe478",
   "metadata": {},
   "outputs": [
    {
     "name": "stdout",
     "output_type": "stream",
     "text": [
      "For input 'september' and 'sptmbreee' the answer is True\n",
      "For input 'work' and 'wwkr' the answer is False\n"
     ]
    }
   ],
   "source": [
    "print(\"For input '{}' and '{}' the answer is {}\".format(input_1_pair_1, input_2_pair_1, is_permutation(input_1_pair_1, input_2_pair_1)))\n",
    "print(\"For input '{}' and '{}' the answer is {}\".format(input_1_pair_2, input_2_pair_2, is_permutation(input_1_pair_2, input_2_pair_2)))"
   ]
  },
  {
   "cell_type": "code",
   "execution_count": 11,
   "id": "a21278f3-dc9e-4638-b8e8-d084adb4df00",
   "metadata": {},
   "outputs": [],
   "source": [
    "# Approach 2. Using hash tables\n",
    "def is_permutation_1(str_1: str, str_2: str):\n",
    "    \n",
    "    # check whether two strings have the same length\n",
    "    if len(str_1) != len(str_2):\n",
    "        return False\n",
    "\n",
    "    str_1_letter_dict = {}\n",
    "\n",
    "    # iterate over the first string and create a dict\n",
    "    for i in str_1:\n",
    "        if i in str_1_letter_dict:\n",
    "            str_1_letter_dict[i] += 1\n",
    "        else:\n",
    "            str_1_letter_dict[i] = 1\n",
    "    \n",
    "    # iterate over the second string and check all values in the created dict\n",
    "    for j in str_2:\n",
    "        if j in str_1_letter_dict:\n",
    "            str_1_letter_dict[j] -= 1\n",
    "        else:\n",
    "            return False\n",
    "    \n",
    "    # check all values in letter dict, should be equal to 0\n",
    "    for k in str_1_letter_dict.values():\n",
    "        if k == 0:\n",
    "            continue\n",
    "        else:\n",
    "            return False\n",
    "\n",
    "    return True"
   ]
  },
  {
   "cell_type": "code",
   "execution_count": 12,
   "id": "deabaa55-56d6-4006-b9e9-09fef8e576ee",
   "metadata": {},
   "outputs": [
    {
     "name": "stdout",
     "output_type": "stream",
     "text": [
      "For input 'september' and 'sptmbreee' the answer is True\n",
      "For input 'work' and 'wwkr' the answer is False\n"
     ]
    }
   ],
   "source": [
    "print(\"For input '{}' and '{}' the answer is {}\".format(input_1_pair_1, input_2_pair_1, is_permutation_1(input_1_pair_1, input_2_pair_1)))\n",
    "print(\"For input '{}' and '{}' the answer is {}\".format(input_1_pair_2, input_2_pair_2, is_permutation_1(input_1_pair_2, input_2_pair_2)))"
   ]
  },
  {
   "cell_type": "code",
   "execution_count": 13,
   "id": "fdd97503-bfac-4101-832f-9444db4dafb8",
   "metadata": {},
   "outputs": [],
   "source": [
    "# Approach 3. Sorting\n",
    "def is_permutation_2(str_1: str, str_2: str):\n",
    "\n",
    "    # sort two strings\n",
    "    str_1_sorted = sorted(str_1)\n",
    "    str_2_sorted = sorted(str_2)\n",
    "\n",
    "    # check whether two sorted strings are the same\n",
    "    if str_1_sorted == str_2_sorted:\n",
    "        return True\n",
    "    else:\n",
    "        return False"
   ]
  },
  {
   "cell_type": "code",
   "execution_count": 14,
   "id": "0426ffab-8cf4-4d1b-8ea1-657f3ece8831",
   "metadata": {},
   "outputs": [
    {
     "name": "stdout",
     "output_type": "stream",
     "text": [
      "For input 'september' and 'sptmbreee' the answer is True\n",
      "For input 'work' and 'wwkr' the answer is False\n"
     ]
    }
   ],
   "source": [
    "print(\"For input '{}' and '{}' the answer is {}\".format(input_1_pair_1, input_2_pair_1, is_permutation_2(input_1_pair_1, input_2_pair_1)))\n",
    "print(\"For input '{}' and '{}' the answer is {}\".format(input_1_pair_2, input_2_pair_2, is_permutation_2(input_1_pair_2, input_2_pair_2)))"
   ]
  },
  {
   "cell_type": "markdown",
   "id": "3608c579-370e-44f3-9d23-5261648e69b9",
   "metadata": {},
   "source": [
    "__Task 3__. URLify: Write a method to replace all spaces in a string with '%20'. You may assume that the string has sufficient space at the end to hold the additional characters and that you are given the \"true\" length of the string."
   ]
  },
  {
   "cell_type": "code",
   "execution_count": 15,
   "id": "480dfc2f-689d-47dc-b688-242ebed92566",
   "metadata": {},
   "outputs": [],
   "source": [
    "input_1 = [\"Mr John Smith  \", 13]"
   ]
  },
  {
   "cell_type": "code",
   "execution_count": 16,
   "id": "9fbd6d18-273c-43e0-99c0-f300ec1d81bf",
   "metadata": {},
   "outputs": [],
   "source": [
    "# Approach 1. Using python methods\n",
    "def urlify(inp_str, length):\n",
    "    return inp_str[:length].replace(\" \", \"%20\")"
   ]
  },
  {
   "cell_type": "code",
   "execution_count": 17,
   "id": "290d5863-4bb4-4219-8720-12c839c81600",
   "metadata": {},
   "outputs": [
    {
     "name": "stdout",
     "output_type": "stream",
     "text": [
      "For input 'Mr John Smith  ' and '13' the answer is Mr%20John%20Smith\n"
     ]
    }
   ],
   "source": [
    "print(\"For input '{}' and '{}' the answer is {}\".format(input_1[0], input_1[1], urlify(input_1[0], input_1[1])))"
   ]
  },
  {
   "cell_type": "code",
   "execution_count": 18,
   "id": "b0b85c07-9144-4a88-9e0c-321ad3a41a3c",
   "metadata": {},
   "outputs": [],
   "source": [
    "# Approach 2. Treat strings as lists of single characters\n",
    "def urlify_1(inp_str, length):\n",
    "    \n",
    "    # count the number of spaces and get the new length \n",
    "    new_length = 0\n",
    "    for char in inp_str[:length]:\n",
    "        new_length = new_length + 3 if char == ' ' else new_length + 1 \n",
    "\n",
    "    # create a new empty string and fill it with chars\n",
    "    res_str = [''] * new_length\n",
    "    idx = 0\n",
    "    for char in inp_str[:length]:\n",
    "        if char == ' ':\n",
    "            res_str[idx], res_str[idx+1], res_str[idx+2] = '%', '2', '0'\n",
    "            idx += 3\n",
    "        else:\n",
    "           res_str[idx] = char\n",
    "           idx += 1\n",
    "            \n",
    "    return \"\".join(res_str)"
   ]
  },
  {
   "cell_type": "code",
   "execution_count": 19,
   "id": "0037f606-acdf-4268-9423-76b429ce25c5",
   "metadata": {},
   "outputs": [
    {
     "name": "stdout",
     "output_type": "stream",
     "text": [
      "For input 'Mr John Smith  ' and '13' the answer is Mr%20John%20Smith\n"
     ]
    }
   ],
   "source": [
    "print(\"For input '{}' and '{}' the answer is {}\".format(input_1[0], input_1[1], urlify_1(input_1[0], input_1[1])))"
   ]
  },
  {
   "cell_type": "markdown",
   "id": "791f2bb6-50c0-4dd3-8272-7dfc485e2fdd",
   "metadata": {},
   "source": [
    "__Task 4__. Palindrome Permutation: Given a string, write a function to check if it is a permutation of a palin­drome. A palindrome is a word or phrase that is the same forwards and backwards. A permutation is a rearrangement of letters. The palindrome does not need to be limited to just dictionary words."
   ]
  },
  {
   "cell_type": "code",
   "execution_count": 20,
   "id": "3c4342c1-c1a4-4d5e-9000-efa326f1aecc",
   "metadata": {},
   "outputs": [],
   "source": [
    "def is_palindrome_permutation(inp_str):\n",
    "    free_space_str = inp_str.replace(\" \", \"\").lower()\n",
    "    \n",
    "    # count the number of letters\n",
    "    letter_dict = {}\n",
    "    for l in free_space_str:\n",
    "        if l.isalpha():\n",
    "            if l in letter_dict.keys():\n",
    "                letter_dict[l] += 1\n",
    "            else:\n",
    "                letter_dict[l] = 1\n",
    "        else:\n",
    "            return False\n",
    "    \n",
    "    # count the number of odd letters in str\n",
    "    count_odd = 0\n",
    "    for i in letter_dict.values():\n",
    "        if i % 2 != 0:\n",
    "            count_odd += 1\n",
    "            if count_odd > 1:\n",
    "                return False\n",
    "    \n",
    "    return True"
   ]
  },
  {
   "cell_type": "code",
   "execution_count": 21,
   "id": "1255d698-053a-49b1-8a17-5ba4dbb7ad7b",
   "metadata": {},
   "outputs": [],
   "source": [
    "input_1 = \"Tact Coa\"\n",
    "input_2 = \"abcbaa\"\n",
    "input_3 = \"Tact Coa 22\""
   ]
  },
  {
   "cell_type": "code",
   "execution_count": 22,
   "id": "1118e93f-0d78-4850-8319-a897268fd10a",
   "metadata": {},
   "outputs": [
    {
     "name": "stdout",
     "output_type": "stream",
     "text": [
      "For input 'Tact Coa' the answer is True\n"
     ]
    }
   ],
   "source": [
    "print(\"For input '{}' the answer is {}\".format(input_1, is_palindrome_permutation(input_1)))"
   ]
  },
  {
   "cell_type": "code",
   "execution_count": 23,
   "id": "01b4ea2c-1249-4592-9ca3-d79ed3268289",
   "metadata": {},
   "outputs": [
    {
     "name": "stdout",
     "output_type": "stream",
     "text": [
      "For input 'abcbaa' the answer is False\n"
     ]
    }
   ],
   "source": [
    "print(\"For input '{}' the answer is {}\".format(input_2, is_palindrome_permutation(input_2)))"
   ]
  },
  {
   "cell_type": "code",
   "execution_count": 24,
   "id": "93ebbcc4-a77a-479e-80ae-702be374591b",
   "metadata": {},
   "outputs": [
    {
     "name": "stdout",
     "output_type": "stream",
     "text": [
      "For input 'Tact Coa 22' the answer is False\n"
     ]
    }
   ],
   "source": [
    "print(\"For input '{}' the answer is {}\".format(input_3, is_palindrome_permutation(input_3)))"
   ]
  },
  {
   "cell_type": "code",
   "execution_count": null,
   "id": "2e4f07c2-5321-4416-a864-0e08d773369d",
   "metadata": {},
   "outputs": [],
   "source": []
  }
 ],
 "metadata": {
  "kernelspec": {
   "display_name": "Python 3",
   "language": "python",
   "name": "python3"
  },
  "language_info": {
   "codemirror_mode": {
    "name": "ipython",
    "version": 3
   },
   "file_extension": ".py",
   "mimetype": "text/x-python",
   "name": "python",
   "nbconvert_exporter": "python",
   "pygments_lexer": "ipython3",
   "version": "3.8.10"
  }
 },
 "nbformat": 4,
 "nbformat_minor": 5
}
