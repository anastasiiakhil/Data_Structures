{
 "cells": [
  {
   "cell_type": "code",
   "execution_count": 1,
   "id": "288178af-7a6b-43ff-a5ca-072b3e6bac1f",
   "metadata": {},
   "outputs": [],
   "source": [
    "class LinkedListNode():\n",
    "    def __init__(self, value, next=None):\n",
    "        self.value = value\n",
    "        self.next = next\n",
    "\n",
    "def print_list(head):\n",
    "    while head:\n",
    "        print(f\"{head.value} -> \", end=\"\")\n",
    "        head = head.next\n",
    "    print(\"None\")"
   ]
  },
  {
   "cell_type": "code",
   "execution_count": 2,
   "id": "f421f8a6-57a0-4890-98dd-f782baa4eeb2",
   "metadata": {},
   "outputs": [],
   "source": [
    "def init_example_1():\n",
    "    link_list = LinkedListNode(10)\n",
    "    link_list.next = LinkedListNode(5)\n",
    "    link_list.next.next = LinkedListNode(13)\n",
    "    link_list.next.next.next = LinkedListNode(5)\n",
    "    link_list.next.next.next.next = LinkedListNode(20)\n",
    "    link_list.next.next.next.next.next = LinkedListNode(5)\n",
    "    return link_list"
   ]
  },
  {
   "cell_type": "code",
   "execution_count": 3,
   "id": "ebaa6cb8-1360-4bb0-be0c-b0234ea9bd23",
   "metadata": {},
   "outputs": [],
   "source": [
    "def init_example_2():\n",
    "    link_list = LinkedListNode(10)\n",
    "    link_list.next = LinkedListNode(11)\n",
    "    link_list.next.next = LinkedListNode(23)\n",
    "    link_list.next.next.next = LinkedListNode(34)\n",
    "    link_list.next.next.next.next = LinkedListNode(47)\n",
    "    link_list.next.next.next.next.next = LinkedListNode(8)\n",
    "    return link_list"
   ]
  },
  {
   "cell_type": "markdown",
   "id": "ffa3228b-8b0b-4ee2-8ed0-2abeadfc9aa7",
   "metadata": {},
   "source": [
    "__Task 1__. Remove Duplicates: Write code to remove duplicates from an unsorted linked list."
   ]
  },
  {
   "cell_type": "code",
   "execution_count": 4,
   "id": "321e195b-72a6-422e-8fe9-85f47728798b",
   "metadata": {},
   "outputs": [],
   "source": [
    "def remove_duplicates(head: LinkedListNode): \n",
    "\n",
    "    # create function that deletes linked list elements by position\n",
    "    def delete_node(head, position):\n",
    "        temp = head\n",
    "        prev = None\n",
    "\n",
    "        if position == 1:\n",
    "            head = temp.next\n",
    "            return head\n",
    "        \n",
    "        for i in range(1, position):\n",
    "            prev = temp\n",
    "            temp = temp.next\n",
    "            if temp is None:\n",
    "                return head\n",
    "        \n",
    "        if temp is not None:\n",
    "            prev.next = temp.next \n",
    "        \n",
    "        return head\n",
    "\n",
    "    # copy linked list\n",
    "    linked_list = head\n",
    "    \n",
    "    # add all unique values to the list\n",
    "    value_list = []\n",
    "\n",
    "    # iterate over each element (i - position to delete, n - shift after changing linked list len)\n",
    "    i = 1\n",
    "    n = 0\n",
    "    while head:\n",
    "        if head.value not in value_list:\n",
    "            value_list.append(head.value)\n",
    "        else:\n",
    "            new_idx = i - n\n",
    "            linked_list = delete_node(linked_list, new_idx)\n",
    "            n += 1\n",
    "\n",
    "        # change position\n",
    "        head = head.next\n",
    "        i += 1\n",
    "        \n",
    "    return linked_list"
   ]
  },
  {
   "cell_type": "code",
   "execution_count": 5,
   "id": "282eaf42-482a-4748-bd6c-664bfe42187b",
   "metadata": {},
   "outputs": [
    {
     "name": "stdout",
     "output_type": "stream",
     "text": [
      "Input:\n",
      "10 -> 5 -> 13 -> 5 -> 20 -> 5 -> None\n",
      "Output:\n",
      "10 -> 5 -> 13 -> 20 -> None\n"
     ]
    }
   ],
   "source": [
    "# example 1 \n",
    "link_list_1 = init_example_1()\n",
    "print('Input:')\n",
    "print_list(link_list_1)\n",
    "print('Output:')\n",
    "print_list(remove_duplicates(link_list_1))"
   ]
  },
  {
   "cell_type": "code",
   "execution_count": 6,
   "id": "5d5f518f-da89-43dc-ac9c-4f86e661fea9",
   "metadata": {},
   "outputs": [
    {
     "name": "stdout",
     "output_type": "stream",
     "text": [
      "Input:\n",
      "10 -> 11 -> 23 -> 34 -> 47 -> 8 -> None\n",
      "Output:\n",
      "10 -> 11 -> 23 -> 34 -> 47 -> 8 -> None\n"
     ]
    }
   ],
   "source": [
    "# example 2\n",
    "link_list_2 = init_example_2()\n",
    "print('Input:')\n",
    "print_list(link_list_2)\n",
    "print('Output:')\n",
    "print_list(remove_duplicates(link_list_2))"
   ]
  },
  {
   "cell_type": "code",
   "execution_count": 7,
   "id": "d38ca414-088f-4a66-9360-5c49630a04a2",
   "metadata": {},
   "outputs": [],
   "source": [
    "def remove_duplicates_1(head: LinkedListNode):\n",
    "    head_copy = head\n",
    "\n",
    "    # traverse each node in the list\n",
    "    while head_copy:\n",
    "        head_copy2 = head_copy\n",
    "\n",
    "        # traverse the remaining nodes to find and remove duplicates\n",
    "        while head_copy2.next:\n",
    "\n",
    "            # check if the next node has the same data as the current node\n",
    "            if head_copy2.next.value == head_copy.value:\n",
    "                head_copy2.next = head_copy2.next.next\n",
    "            else:\n",
    "                head_copy2 = head_copy2.next\n",
    "        \n",
    "        # move to the next node in the list\n",
    "        head_copy = head_copy.next\n",
    "    \n",
    "    return head"
   ]
  },
  {
   "cell_type": "code",
   "execution_count": 8,
   "id": "8426cfbd-8e34-435a-9e57-85e6c3ba6f34",
   "metadata": {},
   "outputs": [
    {
     "name": "stdout",
     "output_type": "stream",
     "text": [
      "Input:\n",
      "10 -> 5 -> 13 -> 5 -> 20 -> 5 -> None\n",
      "Output:\n",
      "10 -> 5 -> 13 -> 20 -> None\n"
     ]
    }
   ],
   "source": [
    "# example 1 \n",
    "link_list_1 = init_example_1()\n",
    "print('Input:')\n",
    "print_list(link_list_1)\n",
    "print('Output:')\n",
    "print_list(remove_duplicates_1(link_list_1))"
   ]
  },
  {
   "cell_type": "code",
   "execution_count": 9,
   "id": "40c085bf-7490-4c76-a7c4-87ed889b5bf3",
   "metadata": {},
   "outputs": [
    {
     "name": "stdout",
     "output_type": "stream",
     "text": [
      "Input:\n",
      "10 -> 11 -> 23 -> 34 -> 47 -> 8 -> None\n",
      "Output:\n",
      "10 -> 11 -> 23 -> 34 -> 47 -> 8 -> None\n"
     ]
    }
   ],
   "source": [
    "# example 2\n",
    "link_list_2 = init_example_2()\n",
    "print('Input:')\n",
    "print_list(link_list_2)\n",
    "print('Output:')\n",
    "print_list(remove_duplicates_1(link_list_2))"
   ]
  },
  {
   "cell_type": "markdown",
   "id": "74b80312-9bf5-415b-b9b8-6bdeab1ab7c5",
   "metadata": {},
   "source": [
    "__Task 2.__ Return Kth to Last: Implement an algorithm to find the kth to last element of a singly linked list."
   ]
  },
  {
   "cell_type": "code",
   "execution_count": 10,
   "id": "6cbe79e1-bad7-420d-9f6d-f232d01cafa3",
   "metadata": {},
   "outputs": [],
   "source": [
    "def find_element(head: LinkedListNode, k:int):\n",
    "    \n",
    "    # make a copy of list and iterate over it \n",
    "    head_copy = head\n",
    "    size = 0\n",
    "    while head_copy:\n",
    "        size += 1\n",
    "        head_copy = head_copy.next\n",
    "\n",
    "    # knowing the size of the list take an element at the position \n",
    "    if k <= size:\n",
    "        position = size - k\n",
    "        for _ in range(1, size - k + 1):\n",
    "            head = head.next\n",
    "        return head.value\n",
    "\n",
    "    else:\n",
    "        return None"
   ]
  },
  {
   "cell_type": "code",
   "execution_count": 11,
   "id": "3152a317-6ef3-4750-8b88-11eca8479b8f",
   "metadata": {},
   "outputs": [
    {
     "name": "stdout",
     "output_type": "stream",
     "text": [
      "Input:\n",
      "10 -> 5 -> 13 -> 5 -> 20 -> 5 -> None\n",
      "20\n"
     ]
    }
   ],
   "source": [
    "# example 1 \n",
    "link_list_1 = init_example_1()\n",
    "print('Input:')\n",
    "print_list(link_list_1)\n",
    "print(find_element(link_list_1, 2))"
   ]
  },
  {
   "cell_type": "code",
   "execution_count": 12,
   "id": "d21142db-00b6-445d-b158-901988d31318",
   "metadata": {},
   "outputs": [
    {
     "name": "stdout",
     "output_type": "stream",
     "text": [
      "Input:\n",
      "10 -> 11 -> 23 -> 34 -> 47 -> 8 -> None\n",
      "11\n"
     ]
    }
   ],
   "source": [
    "# example 2\n",
    "link_list_2 = init_example_2()\n",
    "print('Input:')\n",
    "print_list(link_list_2)\n",
    "print(find_element(link_list_2, 5))"
   ]
  },
  {
   "cell_type": "code",
   "execution_count": 13,
   "id": "0d0ef001-decc-43f3-98cf-b68873a42114",
   "metadata": {},
   "outputs": [],
   "source": [
    "def find_element_1(head: LinkedListNode, k:int):\n",
    "    \n",
    "    # create two pointers \n",
    "    ref_pointer = head\n",
    "    main_pointer = head\n",
    "\n",
    "    # move ref_pointer to the k-th node from beginning\n",
    "    for _ in range(1, k):\n",
    "        ref_pointer = ref_pointer.next\n",
    "        \n",
    "        if ref_pointer is None:\n",
    "            return None\n",
    "\n",
    "    # move pointers by one and take value of main_pointer when ref_pointer is at the end of linked list\n",
    "    while ref_pointer.next is not None:\n",
    "        ref_pointer = ref_pointer.next\n",
    "        main_pointer = main_pointer.next\n",
    "\n",
    "    return main_pointer.value"
   ]
  },
  {
   "cell_type": "code",
   "execution_count": 14,
   "id": "0e96aa43-fde3-44da-bab1-1f1d2082896d",
   "metadata": {},
   "outputs": [
    {
     "name": "stdout",
     "output_type": "stream",
     "text": [
      "Input:\n",
      "10 -> 5 -> 13 -> 5 -> 20 -> 5 -> None\n",
      "20\n"
     ]
    }
   ],
   "source": [
    "# example 1 \n",
    "link_list_1 = init_example_1()\n",
    "print('Input:')\n",
    "print_list(link_list_1)\n",
    "print(find_element_1(link_list_1, 2))"
   ]
  },
  {
   "cell_type": "code",
   "execution_count": 15,
   "id": "ab1fa852-3194-4db8-a780-e4fc0d7c99db",
   "metadata": {},
   "outputs": [
    {
     "name": "stdout",
     "output_type": "stream",
     "text": [
      "Input:\n",
      "10 -> 11 -> 23 -> 34 -> 47 -> 8 -> None\n",
      "11\n"
     ]
    }
   ],
   "source": [
    "# example 2\n",
    "link_list_2 = init_example_2()\n",
    "print('Input:')\n",
    "print_list(link_list_2)\n",
    "print(find_element_1(link_list_2, 5))"
   ]
  },
  {
   "cell_type": "code",
   "execution_count": null,
   "id": "2a7c3e38-147b-440e-b24b-f7eb8a9fbf83",
   "metadata": {},
   "outputs": [],
   "source": []
  }
 ],
 "metadata": {
  "kernelspec": {
   "display_name": "Python 3",
   "language": "python",
   "name": "python3"
  },
  "language_info": {
   "codemirror_mode": {
    "name": "ipython",
    "version": 3
   },
   "file_extension": ".py",
   "mimetype": "text/x-python",
   "name": "python",
   "nbconvert_exporter": "python",
   "pygments_lexer": "ipython3",
   "version": "3.8.10"
  }
 },
 "nbformat": 4,
 "nbformat_minor": 5
}
