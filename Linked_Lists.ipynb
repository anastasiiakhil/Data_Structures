{
 "cells": [
  {
   "cell_type": "code",
   "execution_count": 1,
   "id": "288178af-7a6b-43ff-a5ca-072b3e6bac1f",
   "metadata": {},
   "outputs": [],
   "source": [
    "class LinkedListNode():\n",
    "    def __init__(self, value, next=None):\n",
    "        self.value = value\n",
    "        self.next = next\n",
    "\n",
    "def print_list(head):\n",
    "    while head:\n",
    "        print(f\"{head.value} -> \", end=\"\")\n",
    "        head = head.next\n",
    "    print(\"None\")"
   ]
  },
  {
   "cell_type": "markdown",
   "id": "ffa3228b-8b0b-4ee2-8ed0-2abeadfc9aa7",
   "metadata": {},
   "source": [
    "__Task 1__. Remove Duplicates: Write code to remove duplicates from an unsorted linked list."
   ]
  },
  {
   "cell_type": "code",
   "execution_count": 2,
   "id": "321e195b-72a6-422e-8fe9-85f47728798b",
   "metadata": {},
   "outputs": [],
   "source": [
    "def remove_duplicates(head: LinkedListNode): \n",
    "\n",
    "    # create function that deletes linked list elements by position\n",
    "    def delete_node(head, position):\n",
    "        temp = head\n",
    "        prev = None\n",
    "\n",
    "        if position == 1:\n",
    "            head = temp.next\n",
    "            return head\n",
    "        \n",
    "        for i in range(1, position):\n",
    "            prev = temp\n",
    "            temp = temp.next\n",
    "            if temp is None:\n",
    "                return head\n",
    "        \n",
    "        if temp is not None:\n",
    "            prev.next = temp.next \n",
    "        \n",
    "        return head\n",
    "\n",
    "    # copy linked list\n",
    "    linked_list = head\n",
    "    \n",
    "    # add all unique values to the list\n",
    "    value_list = []\n",
    "\n",
    "    # iterate over each element (i - position to delete, n - shift after changing linked list len)\n",
    "    i = 1\n",
    "    n = 0\n",
    "    while head:\n",
    "        if head.value not in value_list:\n",
    "            value_list.append(head.value)\n",
    "        else:\n",
    "            new_idx = i - n\n",
    "            linked_list = delete_node(linked_list, new_idx)\n",
    "            n += 1\n",
    "\n",
    "        # change position\n",
    "        head = head.next\n",
    "        i += 1\n",
    "        \n",
    "    return linked_list"
   ]
  },
  {
   "cell_type": "code",
   "execution_count": 3,
   "id": "282eaf42-482a-4748-bd6c-664bfe42187b",
   "metadata": {},
   "outputs": [
    {
     "name": "stdout",
     "output_type": "stream",
     "text": [
      "Input:\n",
      "10 -> 5 -> 13 -> 5 -> 20 -> 5 -> None\n",
      "Output:\n",
      "10 -> 5 -> 13 -> 20 -> None\n"
     ]
    }
   ],
   "source": [
    "# example 1 \n",
    "link_list_1 = LinkedListNode(10)\n",
    "link_list_1.next = LinkedListNode(5)\n",
    "link_list_1.next.next = LinkedListNode(13)\n",
    "link_list_1.next.next.next = LinkedListNode(5)\n",
    "link_list_1.next.next.next.next = LinkedListNode(20)\n",
    "link_list_1.next.next.next.next.next = LinkedListNode(5)\n",
    "\n",
    "print('Input:')\n",
    "print_list(link_list_1)\n",
    "print('Output:')\n",
    "print_list(remove_duplicates(link_list_1))"
   ]
  },
  {
   "cell_type": "code",
   "execution_count": 4,
   "id": "5d5f518f-da89-43dc-ac9c-4f86e661fea9",
   "metadata": {},
   "outputs": [
    {
     "name": "stdout",
     "output_type": "stream",
     "text": [
      "Input:\n",
      "10 -> 11 -> 23 -> 34 -> 47 -> 8 -> None\n",
      "Output:\n",
      "10 -> 11 -> 23 -> 34 -> 47 -> 8 -> None\n"
     ]
    }
   ],
   "source": [
    "# example 2\n",
    "link_list_2 = LinkedListNode(10)\n",
    "link_list_2.next = LinkedListNode(11)\n",
    "link_list_2.next.next = LinkedListNode(23)\n",
    "link_list_2.next.next.next = LinkedListNode(34)\n",
    "link_list_2.next.next.next.next = LinkedListNode(47)\n",
    "link_list_2.next.next.next.next.next = LinkedListNode(8)\n",
    "\n",
    "print('Input:')\n",
    "print_list(link_list_2)\n",
    "print('Output:')\n",
    "print_list(remove_duplicates(link_list_2))"
   ]
  },
  {
   "cell_type": "code",
   "execution_count": null,
   "id": "8426cfbd-8e34-435a-9e57-85e6c3ba6f34",
   "metadata": {},
   "outputs": [],
   "source": []
  }
 ],
 "metadata": {
  "kernelspec": {
   "display_name": "Python 3",
   "language": "python",
   "name": "python3"
  },
  "language_info": {
   "codemirror_mode": {
    "name": "ipython",
    "version": 3
   },
   "file_extension": ".py",
   "mimetype": "text/x-python",
   "name": "python",
   "nbconvert_exporter": "python",
   "pygments_lexer": "ipython3",
   "version": "3.8.10"
  }
 },
 "nbformat": 4,
 "nbformat_minor": 5
}
