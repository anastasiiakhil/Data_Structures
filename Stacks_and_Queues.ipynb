{
 "cells": [
  {
   "cell_type": "markdown",
   "id": "9b0e77a0-6836-49c9-b4e0-b69fb5b94ad1",
   "metadata": {},
   "source": [
    "__Task 1.__ Three in One: Describe how you could use a single array to implement three stacks."
   ]
  },
  {
   "cell_type": "code",
   "execution_count": 1,
   "id": "12187cac-f06e-41d6-8443-56410044fe3a",
   "metadata": {},
   "outputs": [],
   "source": [
    "# static approach\n",
    "class ThreeStacks:\n",
    "    \n",
    "    def __init__(self, size=2):\n",
    "        if size <= 0:\n",
    "            raise ValueError(\"Size must be a positive integer\")\n",
    "            \n",
    "        size_3 = size * 3\n",
    "        self.items = [None] * size_3\n",
    "        self.start = [0, size_3 // 3, 2 * (size_3 // 3)]\n",
    "        self.end = [size_3 // 3, 2 * (size_3 // 3), size_3]\n",
    "\n",
    "    def push(self, stack, val):\n",
    "        if not (0 <= stack <= 2):\n",
    "            raise ValueError(f\"Stack {stack} does not exist\")\n",
    "        \n",
    "        if self.start[stack] == self.end[stack]:\n",
    "            raise ValueError(f\"Stack {stack} is full\")\n",
    "        \n",
    "        self.items[self.start[stack]] = val\n",
    "        self.start[stack] += 1\n",
    "\n",
    "    def pop(self, stack):\n",
    "        if not (0 <= stack <= 2):\n",
    "            raise ValueError(f\"Stack {stack} does not exist\")\n",
    "\n",
    "        top = self.start[stack] - 1\n",
    "        lower_limit = 0 if stack == 0 else self.end[stack - 1]\n",
    "        if top < lower_limit:\n",
    "            raise ValueError(f\"Stack {stack} is empty\")\n",
    "\n",
    "        val = self.items[top]\n",
    "        self.items[top] = None\n",
    "        self.start[stack] = top\n",
    "        return val\n",
    "\n",
    "    def peek(self, stack):\n",
    "        if not (0 <= stack <= 2):\n",
    "            raise ValueError(f\"Stack {stack} does not exist\")\n",
    "        \n",
    "        top = self.start[stack] - 1\n",
    "        lower_limit = 0 if stack == 0 else self.end[stack - 1]\n",
    "        if top < lower_limit:\n",
    "            raise ValueError(f\"Stack {stack} is empty\")\n",
    "\n",
    "        return self.items[top]"
   ]
  },
  {
   "cell_type": "code",
   "execution_count": 2,
   "id": "39437182-d753-43a3-b103-15ada633ac97",
   "metadata": {},
   "outputs": [
    {
     "name": "stdout",
     "output_type": "stream",
     "text": [
      "Init array: [None, None, None, None, None, None]\n",
      "Array after push: [None, None, 'first', 'second', 'third', None]\n",
      "Array after pop: [None, None, 'first', None, 'third', None]\n",
      "Top of 2nd array: third\n"
     ]
    }
   ],
   "source": [
    "three_stacks = ThreeStacks()\n",
    "print('Init array:', three_stacks.items)\n",
    "three_stacks.push(1, 'first')\n",
    "three_stacks.push(1, 'second')\n",
    "three_stacks.push(2, 'third')\n",
    "print('Array after push:', three_stacks.items)\n",
    "three_stacks.pop(1)\n",
    "print('Array after pop:', three_stacks.items)\n",
    "print('Top of 2nd array:', three_stacks.peek(2))"
   ]
  },
  {
   "cell_type": "code",
   "execution_count": 3,
   "id": "a5c9579f-a9c0-44a1-8f2f-85940a6cd90f",
   "metadata": {},
   "outputs": [],
   "source": [
    "# dynamic approach \n",
    "class ThreeStacksDynamic:\n",
    "\n",
    "    def __init__(self, size=2):\n",
    "        if size <= 0:\n",
    "            raise ValueError(\"Size must be a positive integer\")\n",
    "\n",
    "        self.size = size * 3\n",
    "        self.items = [None] * self.size\n",
    "        self.start = {}\n",
    "        self.end = {}\n",
    "\n",
    "    def move_stack(self, stack, mode=1):\n",
    "        stack_items = self.items[self.start.get(stack, 0):self.end.get(stack, 0) + 1]\n",
    "        self.items[self.start.get(stack, 0):self.end.get(stack, 0) + 1] = [None] * len(stack_items)\n",
    "\n",
    "        # save items in the right place after moving \n",
    "        self.start[stack] += mode\n",
    "        self.end[stack] += mode\n",
    "        self.items[self.start.get(stack, 0): self.end.get(stack, 0) + 1] = stack_items\n",
    "\n",
    "    \n",
    "    def push(self, stack, val):\n",
    "        if not (0 <= stack <= 2):\n",
    "            raise ValueError(f\"Stack {stack} does not exist\")\n",
    "\n",
    "        if not None in self.items:\n",
    "            raise ValueError(\"Stack is full.\")\n",
    "\n",
    "        if stack not in self.start:\n",
    "            next_avail = self.items.index(None)\n",
    "            self.start[stack] = next_avail\n",
    "            self.end[stack] = next_avail\n",
    "            self.items[next_avail] = val\n",
    "            \n",
    "        else:\n",
    "            move = 0\n",
    "            \n",
    "            # check if stack has free space \n",
    "            position = self.end.get(stack, 0)\n",
    "            if self.items[position] == None:\n",
    "                self.items[position] = val\n",
    "\n",
    "            else:\n",
    "                # check the size of the stack\n",
    "                if position + 1 < len(self.items):\n",
    "                    \n",
    "                    # check next cell availability \n",
    "                    if self.items[position + 1] == None:\n",
    "                        self.items[position + 1] = val\n",
    "                        self.end[stack] += 1\n",
    "\n",
    "                    # check stack that occupies next cell\n",
    "                    else:\n",
    "                        exist_stack = [x for x in [1, 2, 3] if self.start.get(x, 0) <= position + 1 <= self.end.get(x, 0)][0]\n",
    "                        \n",
    "                        # check how to move stack backward or forward \n",
    "                        forward_cell = self.end.get(exist_stack, 0) + 1 \n",
    "                        if forward_cell < len(self.items) and self.items[forward_cell] == None:\n",
    "                            print('Move forward')\n",
    "                            self.move_stack(exist_stack, 1)\n",
    "                            move += 1\n",
    "\n",
    "                            # save value\n",
    "                            self.end[stack] += 1\n",
    "                            self.items[self.end[stack]] = val\n",
    "\n",
    "                        backward_cell = self.start.get(exist_stack, 0) - 1 \n",
    "                        if backward_cell >= 0 and self.items[backward_cell] == None and move == 0:\n",
    "                            print('Move backward')\n",
    "                            self.move_stack(exist_stack, -1)\n",
    "                            \n",
    "                            # save value\n",
    "                            self.end[stack] += 1 \n",
    "                            self.items[self.end[stack]] = val\n",
    "                            \n",
    "                else:\n",
    "                    exist_stack = [x for x in [1, 2, 3] if self.start.get(x, 0) <= position <= self.end.get(x, 0)][0]\n",
    "                    backward_cell = self.start.get(stack, 0) - 1 \n",
    "                    if backward_cell > 0 and self.items[backward_cell] == None:\n",
    "                        print('Move backward')\n",
    "                        self.move_stack(exist_stack, -1)\n",
    "\n",
    "                        # save value\n",
    "                        self.end[stack] += 1 \n",
    "                        self.items[self.end[stack]] = val\n",
    "        \n",
    "    def pop(self, stack):\n",
    "        if not (0 <= stack <= 2):\n",
    "            raise ValueError(f\"Stack {stack} does not exist\")\n",
    "        \n",
    "        # check if stack is empty\n",
    "        if stack not in self.start:\n",
    "            raise ValueError(\"Stack is empty.\")\n",
    "\n",
    "        self.items[self.end[stack]] = None\n",
    "        if self.end[stack] == self.start[stack]:\n",
    "            del self.start[stack]\n",
    "            del self.end[stack]\n",
    "        else:\n",
    "            self.end[stack] -= 1"
   ]
  },
  {
   "cell_type": "code",
   "execution_count": 4,
   "id": "c78ae3b3-4187-4811-9d25-4ba03327d869",
   "metadata": {},
   "outputs": [],
   "source": [
    "three_stacks_dyn = ThreeStacksDynamic()"
   ]
  },
  {
   "cell_type": "code",
   "execution_count": 5,
   "id": "6be0a912-f1d1-4f47-a018-60fa2dc6a1ba",
   "metadata": {},
   "outputs": [
    {
     "name": "stdout",
     "output_type": "stream",
     "text": [
      "Push result [1, None, None, None, None, None]\n",
      "{1: 0} {1: 0}\n"
     ]
    }
   ],
   "source": [
    "three_stacks_dyn.push(1, 1)\n",
    "print('Push result', three_stacks_dyn.items)\n",
    "print(three_stacks_dyn.start, three_stacks_dyn.end)"
   ]
  },
  {
   "cell_type": "code",
   "execution_count": 6,
   "id": "6dcb0586-d447-401d-abb4-bc13c27fb0d7",
   "metadata": {},
   "outputs": [
    {
     "name": "stdout",
     "output_type": "stream",
     "text": [
      "Push result [1, 2, None, None, None, None]\n",
      "{1: 0, 2: 1} {1: 0, 2: 1}\n"
     ]
    }
   ],
   "source": [
    "three_stacks_dyn.push(2, 2)\n",
    "print('Push result', three_stacks_dyn.items)\n",
    "print(three_stacks_dyn.start, three_stacks_dyn.end)"
   ]
  },
  {
   "cell_type": "code",
   "execution_count": 7,
   "id": "583c0cb8-3ad7-4530-a8bf-f965667042dc",
   "metadata": {},
   "outputs": [
    {
     "name": "stdout",
     "output_type": "stream",
     "text": [
      "Push result [1, 2, 2, None, None, None]\n",
      "{1: 0, 2: 1} {1: 0, 2: 2}\n"
     ]
    }
   ],
   "source": [
    "three_stacks_dyn.push(2, 2)\n",
    "print('Push result', three_stacks_dyn.items)\n",
    "print(three_stacks_dyn.start, three_stacks_dyn.end)"
   ]
  },
  {
   "cell_type": "code",
   "execution_count": 8,
   "id": "7bd7f6e9-d9ff-4cc9-96d3-c3e9cd9582ae",
   "metadata": {},
   "outputs": [
    {
     "name": "stdout",
     "output_type": "stream",
     "text": [
      "Push result [1, 2, 2, 2, None, None]\n",
      "{1: 0, 2: 1} {1: 0, 2: 3}\n"
     ]
    }
   ],
   "source": [
    "three_stacks_dyn.push(2, 2)\n",
    "print('Push result', three_stacks_dyn.items)\n",
    "print(three_stacks_dyn.start, three_stacks_dyn.end)"
   ]
  },
  {
   "cell_type": "code",
   "execution_count": 9,
   "id": "e8252b08-9698-433e-94e8-30644199d3ca",
   "metadata": {},
   "outputs": [
    {
     "name": "stdout",
     "output_type": "stream",
     "text": [
      "Push result [1, 2, 2, 2, 2, None]\n",
      "{1: 0, 2: 1} {1: 0, 2: 4}\n"
     ]
    }
   ],
   "source": [
    "three_stacks_dyn.push(2, 2)\n",
    "print('Push result', three_stacks_dyn.items)\n",
    "print(three_stacks_dyn.start, three_stacks_dyn.end)"
   ]
  },
  {
   "cell_type": "code",
   "execution_count": 10,
   "id": "6a3fd133-bc75-4b91-84f4-b336a095419b",
   "metadata": {},
   "outputs": [
    {
     "name": "stdout",
     "output_type": "stream",
     "text": [
      "Push result [1, 2, 2, 2, 2, 2]\n",
      "{1: 0, 2: 1} {1: 0, 2: 5}\n"
     ]
    }
   ],
   "source": [
    "three_stacks_dyn.push(2, 2)\n",
    "print('Push result', three_stacks_dyn.items)\n",
    "print(three_stacks_dyn.start, three_stacks_dyn.end)"
   ]
  },
  {
   "cell_type": "code",
   "execution_count": 11,
   "id": "65f667a7-9975-407d-b5a6-a34715c41592",
   "metadata": {},
   "outputs": [
    {
     "name": "stdout",
     "output_type": "stream",
     "text": [
      "Push result [None, 2, 2, 2, 2, 2]\n",
      "{2: 1} {2: 5}\n"
     ]
    }
   ],
   "source": [
    "three_stacks_dyn.pop(1)\n",
    "print('Push result', three_stacks_dyn.items)\n",
    "print(three_stacks_dyn.start, three_stacks_dyn.end)"
   ]
  },
  {
   "cell_type": "code",
   "execution_count": 12,
   "id": "01c47b3e-91e0-4953-8c0a-8a52399e8067",
   "metadata": {},
   "outputs": [
    {
     "name": "stdout",
     "output_type": "stream",
     "text": [
      "Push result [None, 2, 2, 2, 2, 2]\n",
      "{2: 1} {2: 5}\n"
     ]
    }
   ],
   "source": [
    "# TODO: fix bug\n",
    "three_stacks_dyn.push(2, 2)\n",
    "print('Push result', three_stacks_dyn.items)\n",
    "print(three_stacks_dyn.start, three_stacks_dyn.end)"
   ]
  },
  {
   "cell_type": "code",
   "execution_count": null,
   "id": "a8fd2038-bd64-4cdb-88cc-cf44d9a1254a",
   "metadata": {},
   "outputs": [],
   "source": []
  }
 ],
 "metadata": {
  "kernelspec": {
   "display_name": "Python 3",
   "language": "python",
   "name": "python3"
  },
  "language_info": {
   "codemirror_mode": {
    "name": "ipython",
    "version": 3
   },
   "file_extension": ".py",
   "mimetype": "text/x-python",
   "name": "python",
   "nbconvert_exporter": "python",
   "pygments_lexer": "ipython3",
   "version": "3.8.10"
  }
 },
 "nbformat": 4,
 "nbformat_minor": 5
}
