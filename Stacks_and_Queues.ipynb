{
 "cells": [
  {
   "cell_type": "markdown",
   "id": "9b0e77a0-6836-49c9-b4e0-b69fb5b94ad1",
   "metadata": {},
   "source": [
    "__Task 1.__ Three in One: Describe how you could use a single array to implement three stacks."
   ]
  },
  {
   "cell_type": "code",
   "execution_count": 1,
   "id": "12187cac-f06e-41d6-8443-56410044fe3a",
   "metadata": {},
   "outputs": [],
   "source": [
    "# static approach\n",
    "class ThreeStacks:\n",
    "    \n",
    "    def __init__(self, size=2):\n",
    "        if size <= 0:\n",
    "            raise ValueError(\"Size must be a positive integer\")\n",
    "            \n",
    "        size_3 = size * 3\n",
    "        self.items = [None] * size_3\n",
    "        self.start = [0, size_3 // 3, 2 * (size_3 // 3)]\n",
    "        self.end = [size_3 // 3, 2 * (size_3 // 3), size_3]\n",
    "\n",
    "    def push(self, stack, val):\n",
    "        if not (0 <= stack <= 2):\n",
    "            raise ValueError(f\"Stack {stack} does not exist\")\n",
    "        \n",
    "        if self.start[stack] == self.end[stack]:\n",
    "            raise ValueError(f\"Stack {stack} is full\")\n",
    "        \n",
    "        self.items[self.start[stack]] = val\n",
    "        self.start[stack] += 1\n",
    "\n",
    "    def pop(self, stack):\n",
    "        if not (0 <= stack <= 2):\n",
    "            raise ValueError(f\"Stack {stack} does not exist\")\n",
    "\n",
    "        top = self.start[stack] - 1\n",
    "        lower_limit = 0 if stack == 0 else self.end[stack - 1]\n",
    "        if top < lower_limit:\n",
    "            raise ValueError(f\"Stack {stack} is empty\")\n",
    "\n",
    "        val = self.items[top]\n",
    "        self.items[top] = None\n",
    "        self.start[stack] = top\n",
    "        return val\n",
    "\n",
    "    def peek(self, stack):\n",
    "        if not (0 <= stack <= 2):\n",
    "            raise ValueError(f\"Stack {stack} does not exist\")\n",
    "        \n",
    "        top = self.start[stack] - 1\n",
    "        lower_limit = 0 if stack == 0 else self.end[stack - 1]\n",
    "        if top < lower_limit:\n",
    "            raise ValueError(f\"Stack {stack} is empty\")\n",
    "\n",
    "        return self.items[top]"
   ]
  },
  {
   "cell_type": "code",
   "execution_count": 2,
   "id": "39437182-d753-43a3-b103-15ada633ac97",
   "metadata": {},
   "outputs": [
    {
     "name": "stdout",
     "output_type": "stream",
     "text": [
      "Init array: [None, None, None, None, None, None]\n",
      "Array after push: [None, None, 'first', 'second', 'third', None]\n",
      "Array after pop: [None, None, 'first', None, 'third', None]\n",
      "Top of 2nd array: third\n"
     ]
    }
   ],
   "source": [
    "three_stacks = ThreeStacks()\n",
    "print('Init array:', three_stacks.items)\n",
    "three_stacks.push(1, 'first')\n",
    "three_stacks.push(1, 'second')\n",
    "three_stacks.push(2, 'third')\n",
    "print('Array after push:', three_stacks.items)\n",
    "three_stacks.pop(1)\n",
    "print('Array after pop:', three_stacks.items)\n",
    "print('Top of 2nd array:', three_stacks.peek(2))"
   ]
  },
  {
   "cell_type": "code",
   "execution_count": 3,
   "id": "a5c9579f-a9c0-44a1-8f2f-85940a6cd90f",
   "metadata": {},
   "outputs": [],
   "source": [
    "# dynamic approach \n",
    "class ThreeStacksDynamic:\n",
    "\n",
    "    def __init__(self, size=2):\n",
    "        if size <= 0:\n",
    "            raise ValueError(\"Size must be a positive integer\")\n",
    "\n",
    "        size_3 = size * 3\n",
    "        self.items = [None] * size_3\n",
    "        self.start = {}\n",
    "        self.end = {}\n",
    "        self.max_end = 0\n",
    "        \n",
    "    def push(self, stack, val):\n",
    "        if not (0 <= stack <= 2):\n",
    "            raise ValueError(f\"Stack {stack} does not exist\")\n",
    "\n",
    "        max_end = max(self.end.get(0, 0), self.end.get(1, 0), self.end.get(2, 0))\n",
    "        if stack not in self.start:\n",
    "            self.start[stack] = max_end\n",
    "            self.end[stack] = max_end + 1\n",
    "            self.items[self.start[stack]] = val\n",
    "            self.start[stack] += 1\n",
    "        \n",
    "        # TODO\n",
    "        # else:"
   ]
  },
  {
   "cell_type": "code",
   "execution_count": 4,
   "id": "c78ae3b3-4187-4811-9d25-4ba03327d869",
   "metadata": {},
   "outputs": [
    {
     "name": "stdout",
     "output_type": "stream",
     "text": [
      "Array after push: [1, None, None, None, None, None]\n"
     ]
    }
   ],
   "source": [
    "three_stacks_dyn = ThreeStacksDynamic()\n",
    "three_stacks_dyn.push(1, 1)\n",
    "print('Array after push:', three_stacks_dyn.items)"
   ]
  },
  {
   "cell_type": "code",
   "execution_count": null,
   "id": "5d4300b5-6f07-46bd-bd3b-bf277aebea5d",
   "metadata": {},
   "outputs": [],
   "source": []
  }
 ],
 "metadata": {
  "kernelspec": {
   "display_name": "Python 3",
   "language": "python",
   "name": "python3"
  },
  "language_info": {
   "codemirror_mode": {
    "name": "ipython",
    "version": 3
   },
   "file_extension": ".py",
   "mimetype": "text/x-python",
   "name": "python",
   "nbconvert_exporter": "python",
   "pygments_lexer": "ipython3",
   "version": "3.8.10"
  }
 },
 "nbformat": 4,
 "nbformat_minor": 5
}
