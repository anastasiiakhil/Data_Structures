{
 "cells": [
  {
   "cell_type": "markdown",
   "id": "9b0e77a0-6836-49c9-b4e0-b69fb5b94ad1",
   "metadata": {},
   "source": [
    "__Task 1.__ Three in One: Describe how you could use a single array to implement three stacks."
   ]
  },
  {
   "cell_type": "code",
   "execution_count": 1,
   "id": "12187cac-f06e-41d6-8443-56410044fe3a",
   "metadata": {},
   "outputs": [],
   "source": [
    "class ThreeStacks:\n",
    "    \n",
    "    def __init__(self, size=2):\n",
    "        if size <= 0:\n",
    "            raise ValueError(\"Size must be a positive integer\")\n",
    "            \n",
    "        size_3 = size * 3\n",
    "        self.items = [None] * size_3\n",
    "        self.start = [0, size_3 // 3, 2 * (size_3 // 3)]\n",
    "        self.end = [size_3 // 3, 2 * (size_3 // 3), size_3]\n",
    "\n",
    "    def push(self, stack, val):\n",
    "        if not (0 <= stack <= 2):\n",
    "            raise ValueError(f\"Stack {stack} does not exist\")\n",
    "        \n",
    "        if self.start[stack] == self.end[stack]:\n",
    "            raise ValueError(f\"Stack {stack} is full\")\n",
    "        \n",
    "        self.items[self.start[stack]] = val\n",
    "        self.start[stack] += 1\n",
    "\n",
    "    def pop(self, stack):\n",
    "        if not (0 <= stack <= 2):\n",
    "            raise ValueError(f\"Stack {stack} does not exist\")\n",
    "\n",
    "        top = self.start[stack] - 1\n",
    "        lower_limit = 0 if stack == 0 else self.end[stack - 1]\n",
    "        if top < lower_limit:\n",
    "            raise ValueError(f\"Stack {stack} is empty\")\n",
    "\n",
    "        val = self.items[top]\n",
    "        self.items[top] = None\n",
    "        self.start[stack] = top\n",
    "        return val\n",
    "\n",
    "    def peek(self, stack):\n",
    "        if not (0 <= stack <= 2):\n",
    "            raise ValueError(f\"Stack {stack} does not exist\")\n",
    "        \n",
    "        top = self.start[stack] - 1\n",
    "        lower_limit = 0 if stack == 0 else self.end[stack - 1]\n",
    "        if top < lower_limit:\n",
    "            raise ValueError(f\"Stack {stack} is empty\")\n",
    "\n",
    "        return self.items[top]"
   ]
  },
  {
   "cell_type": "code",
   "execution_count": 2,
   "id": "39437182-d753-43a3-b103-15ada633ac97",
   "metadata": {},
   "outputs": [
    {
     "name": "stdout",
     "output_type": "stream",
     "text": [
      "Init array: [None, None, None, None, None, None]\n",
      "Array after push: [None, None, 'first', 'second', 'third', None]\n",
      "Array after pop: [None, None, 'first', None, 'third', None]\n",
      "Top of 2nd array: third\n"
     ]
    }
   ],
   "source": [
    "three_stacks = ThreeStacks()\n",
    "print('Init array:', three_stacks.items)\n",
    "three_stacks.push(1, 'first')\n",
    "three_stacks.push(1, 'second')\n",
    "three_stacks.push(2, 'third')\n",
    "print('Array after push:', three_stacks.items)\n",
    "three_stacks.pop(1)\n",
    "print('Array after pop:', three_stacks.items)\n",
    "print('Top of 2nd array:', three_stacks.peek(2))"
   ]
  },
  {
   "cell_type": "code",
   "execution_count": null,
   "id": "a5c9579f-a9c0-44a1-8f2f-85940a6cd90f",
   "metadata": {},
   "outputs": [],
   "source": []
  }
 ],
 "metadata": {
  "kernelspec": {
   "display_name": "Python 3",
   "language": "python",
   "name": "python3"
  },
  "language_info": {
   "codemirror_mode": {
    "name": "ipython",
    "version": 3
   },
   "file_extension": ".py",
   "mimetype": "text/x-python",
   "name": "python",
   "nbconvert_exporter": "python",
   "pygments_lexer": "ipython3",
   "version": "3.8.10"
  }
 },
 "nbformat": 4,
 "nbformat_minor": 5
}
