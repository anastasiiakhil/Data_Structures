{
 "cells": [
  {
   "cell_type": "markdown",
   "id": "9b0e77a0-6836-49c9-b4e0-b69fb5b94ad1",
   "metadata": {},
   "source": [
    "__Task 1.__ Three in One: Describe how you could use a single array to implement three stacks."
   ]
  },
  {
   "cell_type": "code",
   "execution_count": 1,
   "id": "12187cac-f06e-41d6-8443-56410044fe3a",
   "metadata": {},
   "outputs": [],
   "source": [
    "# static approach\n",
    "class ThreeStacks:\n",
    "    \n",
    "    def __init__(self, size=2):\n",
    "        if size <= 0:\n",
    "            raise ValueError(\"Size must be a positive integer\")\n",
    "            \n",
    "        size_3 = size * 3\n",
    "        self.items = [None] * size_3\n",
    "        self.start = [0, size_3 // 3, 2 * (size_3 // 3)]\n",
    "        self.end = [size_3 // 3, 2 * (size_3 // 3), size_3]\n",
    "\n",
    "    def push(self, stack, val):\n",
    "        if not (0 <= stack <= 2):\n",
    "            raise ValueError(f\"Stack {stack} does not exist\")\n",
    "        \n",
    "        if self.start[stack] == self.end[stack]:\n",
    "            raise ValueError(f\"Stack {stack} is full\")\n",
    "        \n",
    "        self.items[self.start[stack]] = val\n",
    "        self.start[stack] += 1\n",
    "\n",
    "    def pop(self, stack):\n",
    "        if not (0 <= stack <= 2):\n",
    "            raise ValueError(f\"Stack {stack} does not exist\")\n",
    "\n",
    "        top = self.start[stack] - 1\n",
    "        lower_limit = 0 if stack == 0 else self.end[stack - 1]\n",
    "        if top < lower_limit:\n",
    "            raise ValueError(f\"Stack {stack} is empty\")\n",
    "\n",
    "        val = self.items[top]\n",
    "        self.items[top] = None\n",
    "        self.start[stack] = top\n",
    "        return val\n",
    "\n",
    "    def peek(self, stack):\n",
    "        if not (0 <= stack <= 2):\n",
    "            raise ValueError(f\"Stack {stack} does not exist\")\n",
    "        \n",
    "        top = self.start[stack] - 1\n",
    "        lower_limit = 0 if stack == 0 else self.end[stack - 1]\n",
    "        if top < lower_limit:\n",
    "            raise ValueError(f\"Stack {stack} is empty\")\n",
    "\n",
    "        return self.items[top]"
   ]
  },
  {
   "cell_type": "code",
   "execution_count": 2,
   "id": "39437182-d753-43a3-b103-15ada633ac97",
   "metadata": {},
   "outputs": [
    {
     "name": "stdout",
     "output_type": "stream",
     "text": [
      "Init array: [None, None, None, None, None, None]\n",
      "Array after push: [None, None, 'first', 'second', 'third', None]\n",
      "Array after pop: [None, None, 'first', None, 'third', None]\n",
      "Top of 2nd array: third\n"
     ]
    }
   ],
   "source": [
    "three_stacks = ThreeStacks()\n",
    "print('Init array:', three_stacks.items)\n",
    "three_stacks.push(1, 'first')\n",
    "three_stacks.push(1, 'second')\n",
    "three_stacks.push(2, 'third')\n",
    "print('Array after push:', three_stacks.items)\n",
    "three_stacks.pop(1)\n",
    "print('Array after pop:', three_stacks.items)\n",
    "print('Top of 2nd array:', three_stacks.peek(2))"
   ]
  },
  {
   "cell_type": "code",
   "execution_count": 3,
   "id": "a5c9579f-a9c0-44a1-8f2f-85940a6cd90f",
   "metadata": {},
   "outputs": [],
   "source": [
    "# dynamic approach \n",
    "class ThreeStacksDynamic:\n",
    "\n",
    "    def __init__(self, size=2):\n",
    "        if size <= 0:\n",
    "            raise ValueError(\"Size must be a positive integer\")\n",
    "\n",
    "        self.size = size * 3\n",
    "        self.items = [None] * self.size\n",
    "        self.start = {}\n",
    "        self.end = {}\n",
    "        self.max_end = 0\n",
    "        \n",
    "    def push(self, stack, val):\n",
    "        if not (0 <= stack <= 2):\n",
    "            raise ValueError(f\"Stack {stack} does not exist\")\n",
    "\n",
    "        max_end = max(self.end.values(), default=0)\n",
    "        next_avail = max_end + 1 if max_end >= 1 else max_end\n",
    "        if stack not in self.start:\n",
    "            self.start[stack] = next_avail\n",
    "            self.items[self.start.get(stack, 0)] = val\n",
    "            self.end[stack] = next_avail + 1\n",
    "\n",
    "        else:\n",
    "            if len([True for x in self.items if x != None]) == self.size:\n",
    "                    raise ValueError(\"Array if full. There is no memory left.\")\n",
    "\n",
    "            # check if stack has free space \n",
    "            position = self.end.get(stack, 0)\n",
    "            if self.items[position] == None:\n",
    "                self.items[position] = val\n",
    "\n",
    "            else:\n",
    "                # check the size of the stack\n",
    "                if position + 1 < len(self.items):\n",
    "                    \n",
    "                    # check next cell availability \n",
    "                    if self.items[position + 1] == None:\n",
    "                        self.items[position + 1] = val\n",
    "                        self.end[stack] += 1\n",
    "\n",
    "                    # check stack that occupies next cell\n",
    "                    else:\n",
    "                        exist_stack = [x for x in [1, 2, 3] if self.start.get(x, 0) <= position + 1 <= self.end.get(x, 0)][0]\n",
    "                        \n",
    "                        # check how to move stack backward or forward \n",
    "                        forward_cell = self.end.get(exist_stack, 0) + 1 \n",
    "                        if forward_cell < len(self.items) and self.items[forward_cell] == None:\n",
    "                            print('Move forward')\n",
    "                            \n",
    "                            exist_stack_items = self.items[self.start.get(exist_stack, 0):self.end.get(exist_stack, 0) + 1]\n",
    "                            self.start[exist_stack] += 1\n",
    "                            self.end[exist_stack] += 1\n",
    "                            self.items[self.start.get(exist_stack, 0):self.end.get(exist_stack, 0) + 1] = exist_stack_items\n",
    "                            \n",
    "                            # save new item\n",
    "                            self.items[position + 1] = val\n",
    "                            self.end[stack] += 1\n",
    "    \n",
    "                        backward_cell = self.start.get(exist_stack, 0) - 1 \n",
    "                        if backward_cell > 0 and self.items[backward_cell] == None:\n",
    "                            print('Move backward')\n",
    "                            \n",
    "                            exist_stack_items = self.items[self.start.get(exist_stack, 0):self.end.get(exist_stack, 0) + 1]\n",
    "                            self.start[exist_stack] -= 1\n",
    "                            self.end[exist_stack] -= 1\n",
    "                            self.items[self.start.get(exist_stack, 0):self.end.get(exist_stack, 0) - 1] = exist_stack_items\n",
    "    \n",
    "                            # save new item\n",
    "                            self.items[position - 1] = val\n",
    "                            self.end[stack] -= 1\n",
    "                else:\n",
    "                    backward_cell = self.start.get(stack, 0) - 1 \n",
    "                    if backward_cell > 0 and self.items[backward_cell] == None:\n",
    "                        print('Move backward')\n",
    "                            \n",
    "                        exist_stack_items = self.items[self.start.get(stack, 0):self.end.get(stack, 0) + 1]\n",
    "\n",
    "                        for idx in range(self.start.get(stack, 0), self.end.get(stack, 0) + 1):\n",
    "                            self.items[idx] = None\n",
    "                        \n",
    "                        self.start[stack] -= 1\n",
    "                        self.end[stack] -= 1\n",
    "                        self.items[self.start.get(stack, 0):self.end.get(stack, 0) - 1] = exist_stack_items\n",
    "    \n",
    "                        # save new item\n",
    "                        self.items[position] = val\n",
    "                        self.end[stack] += 1\n",
    "                        \n",
    "        \n",
    "    def pop(self, stack):\n",
    "        if not (0 <= stack <= 2):\n",
    "            raise ValueError(f\"Stack {stack} does not exist\")\n",
    "        \n",
    "        # check if stack is empty\n",
    "        if stack not in self.start:\n",
    "            raise ValueError(\"Stack is empty.\")\n",
    "\n",
    "        self.items[self.end[stack]] = None\n",
    "        if self.end[stack] == self.start[stack]:\n",
    "            del self.start[stack]\n",
    "            del self.end[stack]\n",
    "        else:\n",
    "            self.end[stack] -= 1     "
   ]
  },
  {
   "cell_type": "code",
   "execution_count": 4,
   "id": "c78ae3b3-4187-4811-9d25-4ba03327d869",
   "metadata": {},
   "outputs": [],
   "source": [
    "three_stacks_dyn = ThreeStacksDynamic()"
   ]
  },
  {
   "cell_type": "code",
   "execution_count": 5,
   "id": "6be0a912-f1d1-4f47-a018-60fa2dc6a1ba",
   "metadata": {},
   "outputs": [
    {
     "name": "stdout",
     "output_type": "stream",
     "text": [
      "Push result [1, None, None, None, None, None]\n",
      "{1: 0} {1: 1}\n"
     ]
    }
   ],
   "source": [
    "three_stacks_dyn.push(1, 1)\n",
    "print('Push result', three_stacks_dyn.items)\n",
    "print(three_stacks_dyn.start, three_stacks_dyn.end)"
   ]
  },
  {
   "cell_type": "code",
   "execution_count": 6,
   "id": "6dcb0586-d447-401d-abb4-bc13c27fb0d7",
   "metadata": {},
   "outputs": [
    {
     "name": "stdout",
     "output_type": "stream",
     "text": [
      "Push result [1, 1, None, None, None, None]\n",
      "{1: 0} {1: 1}\n"
     ]
    }
   ],
   "source": [
    "three_stacks_dyn.push(1, 1)\n",
    "print('Push result', three_stacks_dyn.items)\n",
    "print(three_stacks_dyn.start, three_stacks_dyn.end)"
   ]
  },
  {
   "cell_type": "code",
   "execution_count": 7,
   "id": "64c46edb-1fba-473b-8bb6-ee97f80e81fa",
   "metadata": {},
   "outputs": [
    {
     "name": "stdout",
     "output_type": "stream",
     "text": [
      "Push result [1, 1, 1, None, None, None]\n",
      "{1: 0} {1: 2}\n"
     ]
    }
   ],
   "source": [
    "three_stacks_dyn.push(1, 1)\n",
    "print('Push result', three_stacks_dyn.items)\n",
    "print(three_stacks_dyn.start, three_stacks_dyn.end)"
   ]
  },
  {
   "cell_type": "code",
   "execution_count": 8,
   "id": "e2bba87f-3d5a-4013-8de6-2e2960d4b42c",
   "metadata": {},
   "outputs": [
    {
     "name": "stdout",
     "output_type": "stream",
     "text": [
      "Push result [1, 1, 1, 2, None, None]\n",
      "{1: 0, 2: 3} {1: 2, 2: 4}\n"
     ]
    }
   ],
   "source": [
    "three_stacks_dyn.push(2, 2)\n",
    "print('Push result', three_stacks_dyn.items)\n",
    "print(three_stacks_dyn.start, three_stacks_dyn.end)"
   ]
  },
  {
   "cell_type": "code",
   "execution_count": 9,
   "id": "6183369f-b854-4799-b5ee-b8a31fd14cd1",
   "metadata": {},
   "outputs": [
    {
     "name": "stdout",
     "output_type": "stream",
     "text": [
      "Move forward\n",
      "Push result [1, 1, 1, 1, 2, None]\n",
      "{1: 0, 2: 4} {1: 3, 2: 5}\n"
     ]
    }
   ],
   "source": [
    "three_stacks_dyn.push(1, 1)\n",
    "print('Push result', three_stacks_dyn.items)\n",
    "print(three_stacks_dyn.start, three_stacks_dyn.end)"
   ]
  },
  {
   "cell_type": "code",
   "execution_count": 10,
   "id": "afed0a0e-a250-4814-aad7-2e9e4185495d",
   "metadata": {},
   "outputs": [
    {
     "name": "stdout",
     "output_type": "stream",
     "text": [
      "Push result [1, 1, 1, None, 2, None]\n",
      "{1: 0, 2: 4} {1: 2, 2: 5}\n"
     ]
    }
   ],
   "source": [
    "three_stacks_dyn.pop(1)\n",
    "print('Push result', three_stacks_dyn.items)\n",
    "print(three_stacks_dyn.start, three_stacks_dyn.end)"
   ]
  },
  {
   "cell_type": "code",
   "execution_count": 11,
   "id": "aad871bd-202f-44b4-b8b7-96604e72d905",
   "metadata": {},
   "outputs": [
    {
     "name": "stdout",
     "output_type": "stream",
     "text": [
      "Push result [1, 1, 1, None, 2, 2]\n",
      "{1: 0, 2: 4} {1: 2, 2: 5}\n"
     ]
    }
   ],
   "source": [
    "three_stacks_dyn.push(2, 2)\n",
    "print('Push result', three_stacks_dyn.items)\n",
    "print(three_stacks_dyn.start, three_stacks_dyn.end)"
   ]
  },
  {
   "cell_type": "code",
   "execution_count": 12,
   "id": "87ffd57e-00f1-4d88-a83d-3ff3c354da6b",
   "metadata": {},
   "outputs": [
    {
     "name": "stdout",
     "output_type": "stream",
     "text": [
      "Move backward\n",
      "Push result [1, 1, 1, 2, 2, 2, None, None]\n",
      "{1: 0, 2: 3} {1: 2, 2: 5}\n"
     ]
    }
   ],
   "source": [
    "three_stacks_dyn.push(2, 2)\n",
    "print('Push result', three_stacks_dyn.items)\n",
    "print(three_stacks_dyn.start, three_stacks_dyn.end)"
   ]
  },
  {
   "cell_type": "code",
   "execution_count": 13,
   "id": "f177ddb0-b055-4172-97ec-d4a9d5836dde",
   "metadata": {},
   "outputs": [
    {
     "name": "stdout",
     "output_type": "stream",
     "text": [
      "Push result [1, 1, 1, 2, 2, 2, 0, None]\n",
      "{1: 0, 2: 3, 0: 6} {1: 2, 2: 5, 0: 7}\n"
     ]
    }
   ],
   "source": [
    "three_stacks_dyn.push(0, 0)\n",
    "print('Push result', three_stacks_dyn.items)\n",
    "print(three_stacks_dyn.start, three_stacks_dyn.end)"
   ]
  },
  {
   "cell_type": "code",
   "execution_count": 14,
   "id": "17a08abc-bdac-4fff-b15b-e20ddb237764",
   "metadata": {},
   "outputs": [],
   "source": [
    "# # TODO: fix code issues \n",
    "# three_stacks_dyn.push(2, 2)\n",
    "# print('Push result', three_stacks_dyn.items)\n",
    "# print(three_stacks_dyn.start, three_stacks_dyn.end)"
   ]
  },
  {
   "cell_type": "code",
   "execution_count": null,
   "id": "7ca5d717-8356-4b72-abcb-e56c86493558",
   "metadata": {},
   "outputs": [],
   "source": []
  }
 ],
 "metadata": {
  "kernelspec": {
   "display_name": "Python 3",
   "language": "python",
   "name": "python3"
  },
  "language_info": {
   "codemirror_mode": {
    "name": "ipython",
    "version": 3
   },
   "file_extension": ".py",
   "mimetype": "text/x-python",
   "name": "python",
   "nbconvert_exporter": "python",
   "pygments_lexer": "ipython3",
   "version": "3.8.10"
  }
 },
 "nbformat": 4,
 "nbformat_minor": 5
}
