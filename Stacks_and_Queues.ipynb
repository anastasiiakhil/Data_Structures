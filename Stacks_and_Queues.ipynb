{
 "cells": [
  {
   "cell_type": "markdown",
   "id": "9b0e77a0-6836-49c9-b4e0-b69fb5b94ad1",
   "metadata": {},
   "source": [
    "__Task 1.__ Three in One: Describe how you could use a single array to implement three stacks."
   ]
  },
  {
   "cell_type": "code",
   "execution_count": 1,
   "id": "12187cac-f06e-41d6-8443-56410044fe3a",
   "metadata": {},
   "outputs": [],
   "source": [
    "class ThreeStacks:\n",
    "    \n",
    "    def __init__(self, capacity=2):\n",
    "        cap_3 = capacity * 3\n",
    "        self.items = [None] * cap_3\n",
    "        self.start = [0, cap_3 // 3, 2 * (cap_3 // 3)]\n",
    "        self.end = [cap_3 // 3, 2 * (cap_3 // 3), cap_3]\n",
    "\n",
    "    def push(self, stack, val):\n",
    "        if stack > 2:\n",
    "            raise ValueError(f\"Stack {stack} does not exist\")\n",
    "        \n",
    "        if self.start[stack] == self.end[stack]:\n",
    "            raise ValueError(f\"Stack {stack} is full\")\n",
    "        \n",
    "        self.items[self.start[stack]] = val\n",
    "        self.start[stack] += 1\n",
    "\n",
    "    def pop(self, stack):\n",
    "        if stack > 2:\n",
    "            raise ValueError(f\"Stack {stack} does not exist\")\n",
    "\n",
    "        top = self.start[stack] - 1\n",
    "        if top < 0 or self.items[top] == None:\n",
    "            raise ValueError(f\"Stack {stack} is empty\")\n",
    "        \n",
    "        self.items[top] = None\n",
    "        self.start[stack] = top"
   ]
  },
  {
   "cell_type": "code",
   "execution_count": 2,
   "id": "39437182-d753-43a3-b103-15ada633ac97",
   "metadata": {},
   "outputs": [
    {
     "name": "stdout",
     "output_type": "stream",
     "text": [
      "Init array: [None, None, None, None, None, None]\n",
      "Array after push: ['first', None, 'first', 'second', None, None]\n",
      "Array after pop: ['first', None, 'first', None, None, None]\n"
     ]
    }
   ],
   "source": [
    "three_stacks = ThreeStacks()\n",
    "print('Init array:', three_stacks.items)\n",
    "three_stacks.push(0, 'first')\n",
    "three_stacks.push(1, 'first')\n",
    "three_stacks.push(1, 'second')\n",
    "print('Array after push:', three_stacks.items)\n",
    "three_stacks.pop(1)\n",
    "print('Array after pop:', three_stacks.items)"
   ]
  },
  {
   "cell_type": "code",
   "execution_count": 3,
   "id": "667e92c1-2e04-4be4-a667-3db155995532",
   "metadata": {},
   "outputs": [],
   "source": [
    "# TODO: add peek operation"
   ]
  },
  {
   "cell_type": "code",
   "execution_count": null,
   "id": "d1f77efe-6696-4b75-8b44-73895baa4105",
   "metadata": {},
   "outputs": [],
   "source": []
  }
 ],
 "metadata": {
  "kernelspec": {
   "display_name": "Python 3",
   "language": "python",
   "name": "python3"
  },
  "language_info": {
   "codemirror_mode": {
    "name": "ipython",
    "version": 3
   },
   "file_extension": ".py",
   "mimetype": "text/x-python",
   "name": "python",
   "nbconvert_exporter": "python",
   "pygments_lexer": "ipython3",
   "version": "3.8.10"
  }
 },
 "nbformat": 4,
 "nbformat_minor": 5
}
