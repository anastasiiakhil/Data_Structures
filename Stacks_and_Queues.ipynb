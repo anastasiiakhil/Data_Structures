{
 "cells": [
  {
   "cell_type": "markdown",
   "id": "9b0e77a0-6836-49c9-b4e0-b69fb5b94ad1",
   "metadata": {},
   "source": [
    "__Task 1.__ Three in One: Describe how you could use a single array to implement three stacks."
   ]
  },
  {
   "cell_type": "code",
   "execution_count": 1,
   "id": "12187cac-f06e-41d6-8443-56410044fe3a",
   "metadata": {},
   "outputs": [],
   "source": [
    "class ThreeStacks:\n",
    "    \n",
    "    def __init__(self, capacity=2):\n",
    "        cap_3 = capacity * 3\n",
    "        self.items = [None] * cap_3\n",
    "        self.start = [0, cap_3 // 3, 2 * (cap_3 // 3)]\n",
    "        self.end = [cap_3 // 3, 2 * (cap_3 // 3), cap_3]"
   ]
  },
  {
   "cell_type": "code",
   "execution_count": null,
   "id": "39437182-d753-43a3-b103-15ada633ac97",
   "metadata": {},
   "outputs": [],
   "source": []
  },
  {
   "cell_type": "code",
   "execution_count": null,
   "id": "4fc31bc1-5838-44fd-bc2d-eb1f96d07b26",
   "metadata": {},
   "outputs": [],
   "source": []
  },
  {
   "cell_type": "code",
   "execution_count": null,
   "id": "03d0c4da-eab3-476c-8648-870e9bd4c7d9",
   "metadata": {},
   "outputs": [],
   "source": []
  }
 ],
 "metadata": {
  "kernelspec": {
   "display_name": "Python 3",
   "language": "python",
   "name": "python3"
  },
  "language_info": {
   "codemirror_mode": {
    "name": "ipython",
    "version": 3
   },
   "file_extension": ".py",
   "mimetype": "text/x-python",
   "name": "python",
   "nbconvert_exporter": "python",
   "pygments_lexer": "ipython3",
   "version": "3.8.10"
  }
 },
 "nbformat": 4,
 "nbformat_minor": 5
}
